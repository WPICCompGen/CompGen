{
 "cells": [
  {
   "cell_type": "code",
   "execution_count": 1,
   "metadata": {
    "collapsed": true
   },
   "outputs": [],
   "source": [
    "load(\"~/kathryn/data/newGenexp.RData\")"
   ]
  },
  {
   "cell_type": "code",
   "execution_count": 2,
   "metadata": {
    "collapsed": false
   },
   "outputs": [
    {
     "data": {
      "text/plain": [
       "[1] \"2016-02-10\""
      ]
     },
     "execution_count": 2,
     "metadata": {},
     "output_type": "execute_result"
    },
    {
     "data": {
      "text/html": [
       "'klsix'"
      ],
      "text/latex": [
       "'klsix'"
      ],
      "text/markdown": [
       "'klsix'"
      ],
      "text/plain": [
       "[1] \"klsix\""
      ]
     },
     "execution_count": 2,
     "metadata": {},
     "output_type": "execute_result"
    }
   ],
   "source": [
    "Sys.Date()\n",
    "Sys.getenv(\"LOGNAME\")"
   ]
  },
  {
   "cell_type": "code",
   "execution_count": 3,
   "metadata": {
    "collapsed": false
   },
   "outputs": [
    {
     "data": {
      "text/html": [
       "<ol class=list-inline>\n",
       "\t<li>16947</li>\n",
       "\t<li>1341</li>\n",
       "</ol>\n"
      ],
      "text/latex": [
       "\\begin{enumerate*}\n",
       "\\item 16947\n",
       "\\item 1341\n",
       "\\end{enumerate*}\n"
      ],
      "text/markdown": [
       "1. 16947\n",
       "2. 1341\n",
       "\n",
       "\n"
      ],
      "text/plain": [
       "[1] 16947  1341"
      ]
     },
     "execution_count": 3,
     "metadata": {},
     "output_type": "execute_result"
    }
   ],
   "source": [
    "#dimension of the raw data matrix\n",
    "dim(genexp)"
   ]
  },
  {
   "cell_type": "code",
   "execution_count": 4,
   "metadata": {
    "collapsed": false
   },
   "outputs": [
    {
     "data": {
      "text/html": [
       "<table>\n",
       "<thead><tr><th></th><th scope=col>Gene.Symbol</th><th scope=col>HSB92.A1C.R.CEL</th><th scope=col>HSB92.AMY.R.CEL</th><th scope=col>HSB92.CBC.R.CEL</th><th scope=col>HSB92.DFC.R.CEL</th><th scope=col>HSB92.HIP.R.CEL</th><th scope=col>HSB92.IPC.R.CEL</th><th scope=col>HSB92.ITC.R.CEL</th><th scope=col>HSB92.M1C.R.CEL</th><th scope=col>HSB92.MD.R.CEL</th></tr></thead>\n",
       "<tbody>\n",
       "\t<tr><th scope=row>1</th><td>TM9SF4</td><td>9.52518</td><td>9.58627</td><td>9.83768</td><td>9.71532</td><td>9.59314</td><td>9.58955</td><td>9.72765</td><td>9.65232</td><td>9.82384</td></tr>\n",
       "\t<tr><th scope=row>2</th><td>SCAP</td><td>8.86434</td><td>8.53667</td><td>8.69422</td><td>8.47534</td><td>8.5439</td><td>8.66505</td><td>8.61406</td><td>8.66902</td><td>8.89551</td></tr>\n",
       "\t<tr><th scope=row>3</th><td>FAF2</td><td>9.25491</td><td>9.41759</td><td>9.15474</td><td>9.16622</td><td>9.25836</td><td>8.66341</td><td>9.04174</td><td>9.1708</td><td>8.96713</td></tr>\n",
       "\t<tr><th scope=row>4</th><td>DCUN1D2</td><td>5.91099</td><td>6.00839</td><td>6.99707</td><td>6.20941</td><td>6.23413</td><td>6.33267</td><td>6.3843</td><td>5.94272</td><td>6.70543</td></tr>\n",
       "\t<tr><th scope=row>5</th><td>APOM</td><td>4.67695</td><td>4.44922</td><td>4.53101</td><td>4.69162</td><td>4.22927</td><td>4.37382</td><td>4.49371</td><td>4.77555</td><td>4.93169</td></tr>\n",
       "\t<tr><th scope=row>6</th><td>SLC9A1</td><td>6.61057</td><td>6.61265</td><td>6.66228</td><td>6.66617</td><td>6.89378</td><td>6.94315</td><td>6.59575</td><td>7.0279</td><td>6.80934</td></tr>\n",
       "\t<tr><th scope=row>7</th><td>ARRB1</td><td>11.4611</td><td>10.9243</td><td>10.4395</td><td>11.3399</td><td>10.9599</td><td>11.2383</td><td>10.7621</td><td>11.1476</td><td>9.94733</td></tr>\n",
       "\t<tr><th scope=row>8</th><td>SFRS2</td><td>9.58296</td><td>9.3061</td><td>9.92057</td><td>9.55172</td><td>9.09595</td><td>9.61899</td><td>9.37122</td><td>9.5209</td><td>9.20955</td></tr>\n",
       "\t<tr><th scope=row>9</th><td>SLC16A4</td><td>4.75202</td><td>4.82449</td><td>7.53687</td><td>3.99874</td><td>5.02354</td><td>4.52435</td><td>4.78379</td><td>4.27085</td><td>4.82503</td></tr>\n",
       "\t<tr><th scope=row>11</th><td>PIGR</td><td>4.79155</td><td>4.72195</td><td>4.81931</td><td>5.24421</td><td>4.89495</td><td>4.97899</td><td>4.68526</td><td>5.12851</td><td>4.68652</td></tr>\n",
       "</tbody>\n",
       "</table>\n"
      ],
      "text/latex": [
       "\\begin{tabular}{r|llllllllll}\n",
       "  & Gene.Symbol & HSB92.A1C.R.CEL & HSB92.AMY.R.CEL & HSB92.CBC.R.CEL & HSB92.DFC.R.CEL & HSB92.HIP.R.CEL & HSB92.IPC.R.CEL & HSB92.ITC.R.CEL & HSB92.M1C.R.CEL & HSB92.MD.R.CEL\\\\\n",
       "\\hline\n",
       "\t1 & TM9SF4 & 9.52518 & 9.58627 & 9.83768 & 9.71532 & 9.59314 & 9.58955 & 9.72765 & 9.65232 & 9.82384\\\\\n",
       "\t2 & SCAP & 8.86434 & 8.53667 & 8.69422 & 8.47534 & 8.5439 & 8.66505 & 8.61406 & 8.66902 & 8.89551\\\\\n",
       "\t3 & FAF2 & 9.25491 & 9.41759 & 9.15474 & 9.16622 & 9.25836 & 8.66341 & 9.04174 & 9.1708 & 8.96713\\\\\n",
       "\t4 & DCUN1D2 & 5.91099 & 6.00839 & 6.99707 & 6.20941 & 6.23413 & 6.33267 & 6.3843 & 5.94272 & 6.70543\\\\\n",
       "\t5 & APOM & 4.67695 & 4.44922 & 4.53101 & 4.69162 & 4.22927 & 4.37382 & 4.49371 & 4.77555 & 4.93169\\\\\n",
       "\t6 & SLC9A1 & 6.61057 & 6.61265 & 6.66228 & 6.66617 & 6.89378 & 6.94315 & 6.59575 & 7.0279 & 6.80934\\\\\n",
       "\t7 & ARRB1 & 11.4611 & 10.9243 & 10.4395 & 11.3399 & 10.9599 & 11.2383 & 10.7621 & 11.1476 & 9.94733\\\\\n",
       "\t8 & SFRS2 & 9.58296 & 9.3061 & 9.92057 & 9.55172 & 9.09595 & 9.61899 & 9.37122 & 9.5209 & 9.20955\\\\\n",
       "\t9 & SLC16A4 & 4.75202 & 4.82449 & 7.53687 & 3.99874 & 5.02354 & 4.52435 & 4.78379 & 4.27085 & 4.82503\\\\\n",
       "\t11 & PIGR & 4.79155 & 4.72195 & 4.81931 & 5.24421 & 4.89495 & 4.97899 & 4.68526 & 5.12851 & 4.68652\\\\\n",
       "\\end{tabular}\n"
      ],
      "text/plain": [
       "   Gene.Symbol HSB92.A1C.R.CEL HSB92.AMY.R.CEL HSB92.CBC.R.CEL HSB92.DFC.R.CEL\n",
       "1       TM9SF4         9.52518         9.58627         9.83768         9.71532\n",
       "2         SCAP         8.86434         8.53667         8.69422         8.47534\n",
       "3         FAF2         9.25491         9.41759         9.15474         9.16622\n",
       "4      DCUN1D2         5.91099         6.00839         6.99707         6.20941\n",
       "5         APOM         4.67695         4.44922         4.53101         4.69162\n",
       "6       SLC9A1         6.61057         6.61265         6.66228         6.66617\n",
       "7        ARRB1        11.46110        10.92430        10.43950        11.33990\n",
       "8        SFRS2         9.58296         9.30610         9.92057         9.55172\n",
       "9      SLC16A4         4.75202         4.82449         7.53687         3.99874\n",
       "11        PIGR         4.79155         4.72195         4.81931         5.24421\n",
       "   HSB92.HIP.R.CEL HSB92.IPC.R.CEL HSB92.ITC.R.CEL HSB92.M1C.R.CEL\n",
       "1          9.59314         9.58955         9.72765         9.65232\n",
       "2          8.54390         8.66505         8.61406         8.66902\n",
       "3          9.25836         8.66341         9.04174         9.17080\n",
       "4          6.23413         6.33267         6.38430         5.94272\n",
       "5          4.22927         4.37382         4.49371         4.77555\n",
       "6          6.89378         6.94315         6.59575         7.02790\n",
       "7         10.95990        11.23830        10.76210        11.14760\n",
       "8          9.09595         9.61899         9.37122         9.52090\n",
       "9          5.02354         4.52435         4.78379         4.27085\n",
       "11         4.89495         4.97899         4.68526         5.12851\n",
       "   HSB92.MD.R.CEL\n",
       "1         9.82384\n",
       "2         8.89551\n",
       "3         8.96713\n",
       "4         6.70543\n",
       "5         4.93169\n",
       "6         6.80934\n",
       "7         9.94733\n",
       "8         9.20955\n",
       "9         4.82503\n",
       "11        4.68652"
      ]
     },
     "execution_count": 4,
     "metadata": {},
     "output_type": "execute_result"
    }
   ],
   "source": [
    "genexp[1:10, 1:10]"
   ]
  },
  {
   "cell_type": "code",
   "execution_count": 5,
   "metadata": {
    "collapsed": true
   },
   "outputs": [],
   "source": [
    "#replace the rownames with the genenames\n",
    "rownames(genexp) = genexp[,1]\n",
    "genexp = genexp[,-1]"
   ]
  },
  {
   "cell_type": "code",
   "execution_count": 29,
   "metadata": {
    "collapsed": false
   },
   "outputs": [
    {
     "data": {
      "text/html": [
       "<ol>\n",
       "\t<li><ol class=list-inline>\n",
       "\t<li>'HSB92'</li>\n",
       "\t<li>'HSB96'</li>\n",
       "\t<li>'HSB97'</li>\n",
       "\t<li>'HSB98'</li>\n",
       "\t<li>'HSB99'</li>\n",
       "\t<li>'HSB100'</li>\n",
       "\t<li>'HSB102'</li>\n",
       "\t<li>'HSB103'</li>\n",
       "\t<li>'HSB104'</li>\n",
       "\t<li>'HSB105'</li>\n",
       "\t<li>'HSB106'</li>\n",
       "\t<li>'HSB107'</li>\n",
       "\t<li>'HSB111'</li>\n",
       "\t<li>'HSB112'</li>\n",
       "\t<li>'HSB113'</li>\n",
       "\t<li>'HSB114'</li>\n",
       "\t<li>'HSB118'</li>\n",
       "\t<li>'HSB119'</li>\n",
       "\t<li>'HSB121'</li>\n",
       "\t<li>'HSB122'</li>\n",
       "\t<li>'HSB123'</li>\n",
       "\t<li>'HSB124'</li>\n",
       "\t<li>'HSB125'</li>\n",
       "\t<li>'HSB126'</li>\n",
       "\t<li>'HSB127'</li>\n",
       "\t<li>'HSB130'</li>\n",
       "\t<li>'HSB131'</li>\n",
       "\t<li>'HSB132'</li>\n",
       "\t<li>'HSB133'</li>\n",
       "\t<li>'HSB135'</li>\n",
       "\t<li>'HSB136'</li>\n",
       "\t<li>'HSB139'</li>\n",
       "\t<li>'HSB141'</li>\n",
       "\t<li>'HSB142'</li>\n",
       "\t<li>'HSB143'</li>\n",
       "\t<li>'HSB144'</li>\n",
       "\t<li>'HSB145'</li>\n",
       "\t<li>'HSB148'</li>\n",
       "\t<li>'HSB149'</li>\n",
       "\t<li>'HSB150'</li>\n",
       "\t<li>'HSB153'</li>\n",
       "\t<li>'HSB154'</li>\n",
       "\t<li>'HSB155'</li>\n",
       "\t<li>'HSB156'</li>\n",
       "\t<li>'HSB159'</li>\n",
       "\t<li>'HSB169'</li>\n",
       "\t<li>'HSB171'</li>\n",
       "\t<li>'HSB172'</li>\n",
       "\t<li>'HSB173'</li>\n",
       "\t<li>'HSB174'</li>\n",
       "\t<li>'HSB175'</li>\n",
       "\t<li>'HSB178'</li>\n",
       "\t<li>'HSB182'</li>\n",
       "\t<li>'HSB183'</li>\n",
       "\t<li>'HSB185'</li>\n",
       "\t<li>'HSB187'</li>\n",
       "\t<li>'HSB194'</li>\n",
       "</ol>\n",
       "</li>\n",
       "\t<li><ol class=list-inline>\n",
       "\t<li>'A1C'</li>\n",
       "\t<li>'AMY'</li>\n",
       "\t<li>'CBC'</li>\n",
       "\t<li>'DFC'</li>\n",
       "\t<li>'HIP'</li>\n",
       "\t<li>'IPC'</li>\n",
       "\t<li>'ITC'</li>\n",
       "\t<li>'M1C'</li>\n",
       "\t<li>'MD'</li>\n",
       "\t<li>'MFC'</li>\n",
       "\t<li>'OFC'</li>\n",
       "\t<li>'S1C'</li>\n",
       "\t<li>'STC'</li>\n",
       "\t<li>'STR'</li>\n",
       "\t<li>'V1C'</li>\n",
       "\t<li>'VFC'</li>\n",
       "\t<li>'MSC'</li>\n",
       "\t<li>'DIE'</li>\n",
       "\t<li>'FC'</li>\n",
       "\t<li>'OC'</li>\n",
       "\t<li>'PC'</li>\n",
       "\t<li>'TC'</li>\n",
       "\t<li>'URL'</li>\n",
       "\t<li>'VF'</li>\n",
       "\t<li>'CGE'</li>\n",
       "\t<li>'DTH'</li>\n",
       "\t<li>'LGE'</li>\n",
       "\t<li>'MGE'</li>\n",
       "</ol>\n",
       "</li>\n",
       "\t<li><ol class=list-inline>\n",
       "\t<li>'R'</li>\n",
       "\t<li>'L'</li>\n",
       "\t<li>'NA'</li>\n",
       "</ol>\n",
       "</li>\n",
       "\t<li>'CEL'</li>\n",
       "</ol>\n"
      ],
      "text/latex": [
       "\\begin{enumerate}\n",
       "\\item \\begin{enumerate*}\n",
       "\\item 'HSB92'\n",
       "\\item 'HSB96'\n",
       "\\item 'HSB97'\n",
       "\\item 'HSB98'\n",
       "\\item 'HSB99'\n",
       "\\item 'HSB100'\n",
       "\\item 'HSB102'\n",
       "\\item 'HSB103'\n",
       "\\item 'HSB104'\n",
       "\\item 'HSB105'\n",
       "\\item 'HSB106'\n",
       "\\item 'HSB107'\n",
       "\\item 'HSB111'\n",
       "\\item 'HSB112'\n",
       "\\item 'HSB113'\n",
       "\\item 'HSB114'\n",
       "\\item 'HSB118'\n",
       "\\item 'HSB119'\n",
       "\\item 'HSB121'\n",
       "\\item 'HSB122'\n",
       "\\item 'HSB123'\n",
       "\\item 'HSB124'\n",
       "\\item 'HSB125'\n",
       "\\item 'HSB126'\n",
       "\\item 'HSB127'\n",
       "\\item 'HSB130'\n",
       "\\item 'HSB131'\n",
       "\\item 'HSB132'\n",
       "\\item 'HSB133'\n",
       "\\item 'HSB135'\n",
       "\\item 'HSB136'\n",
       "\\item 'HSB139'\n",
       "\\item 'HSB141'\n",
       "\\item 'HSB142'\n",
       "\\item 'HSB143'\n",
       "\\item 'HSB144'\n",
       "\\item 'HSB145'\n",
       "\\item 'HSB148'\n",
       "\\item 'HSB149'\n",
       "\\item 'HSB150'\n",
       "\\item 'HSB153'\n",
       "\\item 'HSB154'\n",
       "\\item 'HSB155'\n",
       "\\item 'HSB156'\n",
       "\\item 'HSB159'\n",
       "\\item 'HSB169'\n",
       "\\item 'HSB171'\n",
       "\\item 'HSB172'\n",
       "\\item 'HSB173'\n",
       "\\item 'HSB174'\n",
       "\\item 'HSB175'\n",
       "\\item 'HSB178'\n",
       "\\item 'HSB182'\n",
       "\\item 'HSB183'\n",
       "\\item 'HSB185'\n",
       "\\item 'HSB187'\n",
       "\\item 'HSB194'\n",
       "\\end{enumerate*}\n",
       "\n",
       "\\item \\begin{enumerate*}\n",
       "\\item 'A1C'\n",
       "\\item 'AMY'\n",
       "\\item 'CBC'\n",
       "\\item 'DFC'\n",
       "\\item 'HIP'\n",
       "\\item 'IPC'\n",
       "\\item 'ITC'\n",
       "\\item 'M1C'\n",
       "\\item 'MD'\n",
       "\\item 'MFC'\n",
       "\\item 'OFC'\n",
       "\\item 'S1C'\n",
       "\\item 'STC'\n",
       "\\item 'STR'\n",
       "\\item 'V1C'\n",
       "\\item 'VFC'\n",
       "\\item 'MSC'\n",
       "\\item 'DIE'\n",
       "\\item 'FC'\n",
       "\\item 'OC'\n",
       "\\item 'PC'\n",
       "\\item 'TC'\n",
       "\\item 'URL'\n",
       "\\item 'VF'\n",
       "\\item 'CGE'\n",
       "\\item 'DTH'\n",
       "\\item 'LGE'\n",
       "\\item 'MGE'\n",
       "\\end{enumerate*}\n",
       "\n",
       "\\item \\begin{enumerate*}\n",
       "\\item 'R'\n",
       "\\item 'L'\n",
       "\\item 'NA'\n",
       "\\end{enumerate*}\n",
       "\n",
       "\\item 'CEL'\n",
       "\\end{enumerate}\n"
      ],
      "text/markdown": [
       "1. 1. 'HSB92'\n",
       "2. 'HSB96'\n",
       "3. 'HSB97'\n",
       "4. 'HSB98'\n",
       "5. 'HSB99'\n",
       "6. 'HSB100'\n",
       "7. 'HSB102'\n",
       "8. 'HSB103'\n",
       "9. 'HSB104'\n",
       "10. 'HSB105'\n",
       "11. 'HSB106'\n",
       "12. 'HSB107'\n",
       "13. 'HSB111'\n",
       "14. 'HSB112'\n",
       "15. 'HSB113'\n",
       "16. 'HSB114'\n",
       "17. 'HSB118'\n",
       "18. 'HSB119'\n",
       "19. 'HSB121'\n",
       "20. 'HSB122'\n",
       "21. 'HSB123'\n",
       "22. 'HSB124'\n",
       "23. 'HSB125'\n",
       "24. 'HSB126'\n",
       "25. 'HSB127'\n",
       "26. 'HSB130'\n",
       "27. 'HSB131'\n",
       "28. 'HSB132'\n",
       "29. 'HSB133'\n",
       "30. 'HSB135'\n",
       "31. 'HSB136'\n",
       "32. 'HSB139'\n",
       "33. 'HSB141'\n",
       "34. 'HSB142'\n",
       "35. 'HSB143'\n",
       "36. 'HSB144'\n",
       "37. 'HSB145'\n",
       "38. 'HSB148'\n",
       "39. 'HSB149'\n",
       "40. 'HSB150'\n",
       "41. 'HSB153'\n",
       "42. 'HSB154'\n",
       "43. 'HSB155'\n",
       "44. 'HSB156'\n",
       "45. 'HSB159'\n",
       "46. 'HSB169'\n",
       "47. 'HSB171'\n",
       "48. 'HSB172'\n",
       "49. 'HSB173'\n",
       "50. 'HSB174'\n",
       "51. 'HSB175'\n",
       "52. 'HSB178'\n",
       "53. 'HSB182'\n",
       "54. 'HSB183'\n",
       "55. 'HSB185'\n",
       "56. 'HSB187'\n",
       "57. 'HSB194'\n",
       "\n",
       "\n",
       "\n",
       "2. 1. 'A1C'\n",
       "2. 'AMY'\n",
       "3. 'CBC'\n",
       "4. 'DFC'\n",
       "5. 'HIP'\n",
       "6. 'IPC'\n",
       "7. 'ITC'\n",
       "8. 'M1C'\n",
       "9. 'MD'\n",
       "10. 'MFC'\n",
       "11. 'OFC'\n",
       "12. 'S1C'\n",
       "13. 'STC'\n",
       "14. 'STR'\n",
       "15. 'V1C'\n",
       "16. 'VFC'\n",
       "17. 'MSC'\n",
       "18. 'DIE'\n",
       "19. 'FC'\n",
       "20. 'OC'\n",
       "21. 'PC'\n",
       "22. 'TC'\n",
       "23. 'URL'\n",
       "24. 'VF'\n",
       "25. 'CGE'\n",
       "26. 'DTH'\n",
       "27. 'LGE'\n",
       "28. 'MGE'\n",
       "\n",
       "\n",
       "\n",
       "3. 1. 'R'\n",
       "2. 'L'\n",
       "3. 'NA'\n",
       "\n",
       "\n",
       "\n",
       "4. 'CEL'\n",
       "\n",
       "\n"
      ],
      "text/plain": [
       "[[1]]\n",
       " [1] \"HSB92\"  \"HSB96\"  \"HSB97\"  \"HSB98\"  \"HSB99\"  \"HSB100\" \"HSB102\" \"HSB103\"\n",
       " [9] \"HSB104\" \"HSB105\" \"HSB106\" \"HSB107\" \"HSB111\" \"HSB112\" \"HSB113\" \"HSB114\"\n",
       "[17] \"HSB118\" \"HSB119\" \"HSB121\" \"HSB122\" \"HSB123\" \"HSB124\" \"HSB125\" \"HSB126\"\n",
       "[25] \"HSB127\" \"HSB130\" \"HSB131\" \"HSB132\" \"HSB133\" \"HSB135\" \"HSB136\" \"HSB139\"\n",
       "[33] \"HSB141\" \"HSB142\" \"HSB143\" \"HSB144\" \"HSB145\" \"HSB148\" \"HSB149\" \"HSB150\"\n",
       "[41] \"HSB153\" \"HSB154\" \"HSB155\" \"HSB156\" \"HSB159\" \"HSB169\" \"HSB171\" \"HSB172\"\n",
       "[49] \"HSB173\" \"HSB174\" \"HSB175\" \"HSB178\" \"HSB182\" \"HSB183\" \"HSB185\" \"HSB187\"\n",
       "[57] \"HSB194\"\n",
       "\n",
       "[[2]]\n",
       " [1] \"A1C\" \"AMY\" \"CBC\" \"DFC\" \"HIP\" \"IPC\" \"ITC\" \"M1C\" \"MD\"  \"MFC\" \"OFC\" \"S1C\"\n",
       "[13] \"STC\" \"STR\" \"V1C\" \"VFC\" \"MSC\" \"DIE\" \"FC\"  \"OC\"  \"PC\"  \"TC\"  \"URL\" \"VF\" \n",
       "[25] \"CGE\" \"DTH\" \"LGE\" \"MGE\"\n",
       "\n",
       "[[3]]\n",
       "[1] \"R\"  \"L\"  \"NA\"\n",
       "\n",
       "[[4]]\n",
       "[1] \"CEL\"\n"
      ]
     },
     "execution_count": 29,
     "metadata": {},
     "output_type": "execute_result"
    },
    {
     "data": {
      "text/html": [
       "<ol>\n",
       "\t<li>57</li>\n",
       "\t<li>28</li>\n",
       "\t<li>3</li>\n",
       "\t<li>1</li>\n",
       "</ol>\n"
      ],
      "text/latex": [
       "\\begin{enumerate}\n",
       "\\item 57\n",
       "\\item 28\n",
       "\\item 3\n",
       "\\item 1\n",
       "\\end{enumerate}\n"
      ],
      "text/markdown": [
       "1. 57\n",
       "2. 28\n",
       "3. 3\n",
       "4. 1\n",
       "\n",
       "\n"
      ],
      "text/plain": [
       "[[1]]\n",
       "[1] 57\n",
       "\n",
       "[[2]]\n",
       "[1] 28\n",
       "\n",
       "[[3]]\n",
       "[1] 3\n",
       "\n",
       "[[4]]\n",
       "[1] 1\n"
      ]
     },
     "execution_count": 29,
     "metadata": {},
     "output_type": "execute_result"
    }
   ],
   "source": [
    "#explore the column names\n",
    "name.split = do.call(rbind, strsplit(colnames(genexp), \"\\\\.\"))\n",
    "name.uniq = apply(name.split, 2, unique)\n",
    "name.uniq\n",
    "lapply(name.uniq, length)"
   ]
  },
  {
   "cell_type": "code",
   "execution_count": 34,
   "metadata": {
    "collapsed": false
   },
   "outputs": [
    {
     "data": {
      "text/plain": [
       "\n",
       "HSB100 HSB102 HSB103 HSB104 HSB105 HSB106 HSB107 HSB111 HSB112 HSB113 HSB114 \n",
       "    32     32     30      8     26     32     32     31     32     32     26 \n",
       "HSB118 HSB119 HSB121 HSB122 HSB123 HSB124 HSB125 HSB126 HSB127 HSB130 HSB131 \n",
       "    15     15     32     32     31     30      7     29     16     16     16 \n",
       "HSB132 HSB133 HSB135 HSB136 HSB139 HSB141 HSB142 HSB143 HSB144 HSB145 HSB148 \n",
       "    32      9     30     32     16     16     32     27     32     32     28 \n",
       "HSB149 HSB150 HSB153 HSB154 HSB155 HSB156 HSB159 HSB169 HSB171 HSB172 HSB173 \n",
       "    31     31     30     14     31     30     30      2     11     14     13 \n",
       "HSB174 HSB175 HSB178 HSB182 HSB183 HSB185 HSB187 HSB194  HSB92  HSB96  HSB97 \n",
       "    12     14     26     13     16      9     32     30     16     23     28 \n",
       " HSB98  HSB99 \n",
       "    23     23 "
      ]
     },
     "execution_count": 34,
     "metadata": {},
     "output_type": "execute_result"
    }
   ],
   "source": [
    "table(name.split[,1])"
   ]
  },
  {
   "cell_type": "code",
   "execution_count": 35,
   "metadata": {
    "collapsed": false
   },
   "outputs": [
    {
     "data": {
      "text/plain": [
       "\n",
       "A1C AMY CBC CGE DFC DIE DTH  FC HIP IPC ITC LGE M1C  MD MFC MGE MSC  OC OFC  PC \n",
       " 83  76  71   4  88   3   4   3  82  85  78   4  72  73  90   4  13   5  82   6 \n",
       "S1C STC STR  TC URL V1C  VF VFC \n",
       " 72  86  75   5   6  83   2  85 "
      ]
     },
     "execution_count": 35,
     "metadata": {},
     "output_type": "execute_result"
    }
   ],
   "source": [
    "table(name.split[,2])"
   ]
  },
  {
   "cell_type": "code",
   "execution_count": 36,
   "metadata": {
    "collapsed": false
   },
   "outputs": [
    {
     "data": {
      "text/plain": [
       "\n",
       "  L  NA   R \n",
       "721  11 608 "
      ]
     },
     "execution_count": 36,
     "metadata": {},
     "output_type": "execute_result"
    }
   ],
   "source": [
    "table(name.split[,3])"
   ]
  },
  {
   "cell_type": "markdown",
   "metadata": {},
   "source": [
    "# Applying Brain-Expressed Genes"
   ]
  },
  {
   "cell_type": "code",
   "execution_count": 7,
   "metadata": {
    "collapsed": false
   },
   "outputs": [],
   "source": [
    "brain.genes = read.table(\"~/kathryn/data/Brain_expression.txt\", header=T)"
   ]
  },
  {
   "cell_type": "code",
   "execution_count": 15,
   "metadata": {
    "collapsed": false
   },
   "outputs": [
    {
     "data": {
      "text/html": [
       "<ol class=list-inline>\n",
       "\t<li>22345</li>\n",
       "\t<li>2</li>\n",
       "</ol>\n"
      ],
      "text/latex": [
       "\\begin{enumerate*}\n",
       "\\item 22345\n",
       "\\item 2\n",
       "\\end{enumerate*}\n"
      ],
      "text/markdown": [
       "1. 22345\n",
       "2. 2\n",
       "\n",
       "\n"
      ],
      "text/plain": [
       "[1] 22345     2"
      ]
     },
     "execution_count": 15,
     "metadata": {},
     "output_type": "execute_result"
    }
   ],
   "source": [
    "dim(brain.genes)"
   ]
  },
  {
   "cell_type": "code",
   "execution_count": 8,
   "metadata": {
    "collapsed": false
   },
   "outputs": [
    {
     "data": {
      "text/html": [
       "<table>\n",
       "<thead><tr><th></th><th scope=col>Gene</th><th scope=col>Brain_expressed</th></tr></thead>\n",
       "<tbody>\n",
       "\t<tr><th scope=row>1</th><td>WDR78</td><td>Yes</td></tr>\n",
       "\t<tr><th scope=row>2</th><td>RERE</td><td>Yes_H</td></tr>\n",
       "\t<tr><th scope=row>3</th><td>NBPF1</td><td>Unknown</td></tr>\n",
       "\t<tr><th scope=row>4</th><td>HIVEP3</td><td>Yes</td></tr>\n",
       "\t<tr><th scope=row>5</th><td>OMA1</td><td>Unknown</td></tr>\n",
       "\t<tr><th scope=row>6</th><td>ELAVL4</td><td>Yes_H</td></tr>\n",
       "</tbody>\n",
       "</table>\n"
      ],
      "text/latex": [
       "\\begin{tabular}{r|ll}\n",
       "  & Gene & Brain_expressed\\\\\n",
       "\\hline\n",
       "\t1 & WDR78 & Yes\\\\\n",
       "\t2 & RERE & Yes_H\\\\\n",
       "\t3 & NBPF1 & Unknown\\\\\n",
       "\t4 & HIVEP3 & Yes\\\\\n",
       "\t5 & OMA1 & Unknown\\\\\n",
       "\t6 & ELAVL4 & Yes_H\\\\\n",
       "\\end{tabular}\n"
      ],
      "text/plain": [
       "    Gene Brain_expressed\n",
       "1  WDR78             Yes\n",
       "2   RERE           Yes_H\n",
       "3  NBPF1         Unknown\n",
       "4 HIVEP3             Yes\n",
       "5   OMA1         Unknown\n",
       "6 ELAVL4           Yes_H"
      ]
     },
     "execution_count": 8,
     "metadata": {},
     "output_type": "execute_result"
    }
   ],
   "source": [
    "head(brain.genes)"
   ]
  },
  {
   "cell_type": "code",
   "execution_count": 17,
   "metadata": {
    "collapsed": false
   },
   "outputs": [
    {
     "data": {
      "text/plain": [
       "\n",
       "     No Unknown     Yes   Yes_H \n",
       "   1956    5662   11983    2744 "
      ]
     },
     "execution_count": 17,
     "metadata": {},
     "output_type": "execute_result"
    }
   ],
   "source": [
    "table(brain.genes$Brain_expressed)"
   ]
  },
  {
   "cell_type": "code",
   "execution_count": 14,
   "metadata": {
    "collapsed": false
   },
   "outputs": [
    {
     "data": {
      "text/html": [
       "20389"
      ],
      "text/latex": [
       "20389"
      ],
      "text/markdown": [
       "20389"
      ],
      "text/plain": [
       "[1] 20389"
      ]
     },
     "execution_count": 14,
     "metadata": {},
     "output_type": "execute_result"
    }
   ],
   "source": [
    "expressed.genes = brain.genes[which(brain.genes$Brain_expressed != \"No\"),1]\n",
    "length(expressed.genes)"
   ]
  },
  {
   "cell_type": "code",
   "execution_count": 18,
   "metadata": {
    "collapsed": true
   },
   "outputs": [],
   "source": [
    "#remove non-expressed genes in the brain\n",
    "i.gene = which(rownames(genexp) %in% expressed.genes)\n",
    "if(length(i.gene)==0) stop(\"NO BRAIN GENES FOUND.\")\n",
    "genexp = genexp[i.gene,]"
   ]
  },
  {
   "cell_type": "code",
   "execution_count": 19,
   "metadata": {
    "collapsed": false
   },
   "outputs": [
    {
     "data": {
      "text/html": [
       "<ol class=list-inline>\n",
       "\t<li>14370</li>\n",
       "\t<li>1340</li>\n",
       "</ol>\n"
      ],
      "text/latex": [
       "\\begin{enumerate*}\n",
       "\\item 14370\n",
       "\\item 1340\n",
       "\\end{enumerate*}\n"
      ],
      "text/markdown": [
       "1. 14370\n",
       "2. 1340\n",
       "\n",
       "\n"
      ],
      "text/plain": [
       "[1] 14370  1340"
      ]
     },
     "execution_count": 19,
     "metadata": {},
     "output_type": "execute_result"
    }
   ],
   "source": [
    "dim(genexp)"
   ]
  },
  {
   "cell_type": "markdown",
   "metadata": {},
   "source": [
    "# Load the BrainSpan Subject Info"
   ]
  },
  {
   "cell_type": "code",
   "execution_count": 20,
   "metadata": {
    "collapsed": true
   },
   "outputs": [],
   "source": [
    "sample.info = read.table(\"~/kathryn/data/brainseq.info.txt\", header=T, sep=\"\\t\")\n",
    "stage = sample.info[,1]\n",
    "uniq.sub = as.character(sample.info[,2])"
   ]
  },
  {
   "cell_type": "code",
   "execution_count": 21,
   "metadata": {
    "collapsed": false
   },
   "outputs": [
    {
     "data": {
      "text/html": [
       "<table>\n",
       "<thead><tr><th></th><th scope=col>Stage</th><th scope=col>Braincode</th><th scope=col>Age</th><th scope=col>Days</th><th scope=col>Gender</th><th scope=col>Hemisphere</th><th scope=col>pH</th><th scope=col>Ethn.</th><th scope=col>PMI</th></tr></thead>\n",
       "<tbody>\n",
       "\t<tr><th scope=row>1</th><td>1</td><td>HSB104</td><td>5.7PCW</td><td>39.9</td><td>M</td><td></td><td>NA</td><td>E</td><td>3.83</td></tr>\n",
       "\t<tr><th scope=row>2</th><td>1</td><td>HSB185</td><td>6PCW</td><td>42</td><td>M</td><td></td><td>6.99</td><td>E</td><td>3</td></tr>\n",
       "\t<tr><th scope=row>3</th><td>2</td><td>HSB112</td><td>8PCW</td><td>56</td><td>M</td><td></td><td>6.94</td><td>E</td><td>5</td></tr>\n",
       "\t<tr><th scope=row>4</th><td>2</td><td>HSB148</td><td>9PCW</td><td>63</td><td>M</td><td>L</td><td>6.01</td><td>E</td><td>1</td></tr>\n",
       "\t<tr><th scope=row>5</th><td>3</td><td>HSB153</td><td>12PCW</td><td>84</td><td>F</td><td>R</td><td>NA</td><td>A</td><td>3</td></tr>\n",
       "\t<tr><th scope=row>6</th><td>3</td><td>HSB150</td><td>12PCW</td><td>84</td><td>F</td><td>R</td><td>6.08</td><td>A</td><td>2.33</td></tr>\n",
       "</tbody>\n",
       "</table>\n"
      ],
      "text/latex": [
       "\\begin{tabular}{r|lllllllll}\n",
       "  & Stage & Braincode & Age & Days & Gender & Hemisphere & pH & Ethn. & PMI\\\\\n",
       "\\hline\n",
       "\t1 & 1 & HSB104 & 5.7PCW & 39.9 & M &  & NA & E & 3.83\\\\\n",
       "\t2 & 1 & HSB185 & 6PCW & 42 & M &  & 6.99 & E & 3\\\\\n",
       "\t3 & 2 & HSB112 & 8PCW & 56 & M &  & 6.94 & E & 5\\\\\n",
       "\t4 & 2 & HSB148 & 9PCW & 63 & M & L & 6.01 & E & 1\\\\\n",
       "\t5 & 3 & HSB153 & 12PCW & 84 & F & R & NA & A & 3\\\\\n",
       "\t6 & 3 & HSB150 & 12PCW & 84 & F & R & 6.08 & A & 2.33\\\\\n",
       "\\end{tabular}\n"
      ],
      "text/plain": [
       "  Stage Braincode    Age Days Gender Hemisphere   pH Ethn.  PMI\n",
       "1     1    HSB104 5.7PCW 39.9      M              NA     E 3.83\n",
       "2     1    HSB185   6PCW 42.0      M            6.99     E 3.00\n",
       "3     2    HSB112   8PCW 56.0      M            6.94     E 5.00\n",
       "4     2    HSB148   9PCW 63.0      M          L 6.01     E 1.00\n",
       "5     3    HSB153  12PCW 84.0      F          R   NA     A 3.00\n",
       "6     3    HSB150  12PCW 84.0      F          R 6.08     A 2.33"
      ]
     },
     "execution_count": 21,
     "metadata": {},
     "output_type": "execute_result"
    }
   ],
   "source": [
    "head(sample.info)"
   ]
  },
  {
   "cell_type": "code",
   "execution_count": 22,
   "metadata": {
    "collapsed": false
   },
   "outputs": [
    {
     "data": {
      "text/html": [
       "<ol class=list-inline>\n",
       "\t<li>57</li>\n",
       "\t<li>9</li>\n",
       "</ol>\n"
      ],
      "text/latex": [
       "\\begin{enumerate*}\n",
       "\\item 57\n",
       "\\item 9\n",
       "\\end{enumerate*}\n"
      ],
      "text/markdown": [
       "1. 57\n",
       "2. 9\n",
       "\n",
       "\n"
      ],
      "text/plain": [
       "[1] 57  9"
      ]
     },
     "execution_count": 22,
     "metadata": {},
     "output_type": "execute_result"
    }
   ],
   "source": [
    "dim(sample.info)"
   ]
  },
  {
   "cell_type": "code",
   "execution_count": 24,
   "metadata": {
    "collapsed": false
   },
   "outputs": [
    {
     "data": {
      "text/html": [
       "<dl class=dl-horizontal>\n",
       "\t<dt>0%</dt>\n",
       "\t\t<dd>39.9</dd>\n",
       "\t<dt>25%</dt>\n",
       "\t\t<dd>133</dd>\n",
       "\t<dt>50%</dt>\n",
       "\t\t<dd>566</dd>\n",
       "\t<dt>75%</dt>\n",
       "\t\t<dd>8296</dd>\n",
       "\t<dt>100%</dt>\n",
       "\t\t<dd>30196</dd>\n",
       "</dl>\n"
      ],
      "text/latex": [
       "\\begin{description*}\n",
       "\\item[0%] 39.9\n",
       "\\item[25%] 133\n",
       "\\item[50%] 566\n",
       "\\item[75%] 8296\n",
       "\\item[100%] 30196\n",
       "\\end{description*}\n"
      ],
      "text/markdown": [
       "0%\n",
       ":   39.925%\n",
       ":   13350%\n",
       ":   56675%\n",
       ":   8296100%\n",
       ":   30196\n",
       "\n"
      ],
      "text/plain": [
       "     0%     25%     50%     75%    100% \n",
       "   39.9   133.0   566.0  8296.0 30196.0 "
      ]
     },
     "execution_count": 24,
     "metadata": {},
     "output_type": "execute_result"
    }
   ],
   "source": [
    "quantile(sample.info$Days)"
   ]
  },
  {
   "cell_type": "code",
   "execution_count": 27,
   "metadata": {
    "collapsed": false
   },
   "outputs": [
    {
     "data": {
      "text/html": [
       "<ol class=list-inline>\n",
       "\t<li>5.7PCW</li>\n",
       "\t<li>6PCW</li>\n",
       "\t<li>8PCW</li>\n",
       "\t<li>9PCW</li>\n",
       "\t<li>12PCW</li>\n",
       "\t<li>12PCW</li>\n",
       "\t<li>12PCW</li>\n",
       "\t<li>13PCW</li>\n",
       "\t<li>13PCW</li>\n",
       "\t<li>13PCW</li>\n",
       "\t<li>16PCW</li>\n",
       "\t<li>16PCW</li>\n",
       "\t<li>16PCW</li>\n",
       "\t<li>17PCW</li>\n",
       "\t<li>19PCW</li>\n",
       "\t<li>19PCW</li>\n",
       "\t<li>21PCW</li>\n",
       "\t<li>21PCW</li>\n",
       "\t<li>21PCW</li>\n",
       "\t<li>21PCW</li>\n",
       "\t<li>22PCW</li>\n",
       "\t<li>25PCW</li>\n",
       "\t<li>35PCW</li>\n",
       "\t<li>37PCW</li>\n",
       "\t<li>4M</li>\n",
       "\t<li>4M</li>\n",
       "\t<li>4M</li>\n",
       "\t<li>6M</li>\n",
       "\t<li>10M</li>\n",
       "\t<li>1Y</li>\n",
       "\t<li>2Y</li>\n",
       "\t<li>3Y</li>\n",
       "\t<li>3Y</li>\n",
       "\t<li>4Y</li>\n",
       "\t<li>8Y</li>\n",
       "\t<li>8Y</li>\n",
       "\t<li>11Y</li>\n",
       "\t<li>13Y</li>\n",
       "\t<li>15Y</li>\n",
       "\t<li>18Y</li>\n",
       "\t<li>19Y</li>\n",
       "\t<li>21Y</li>\n",
       "\t<li>22Y</li>\n",
       "\t<li>23Y</li>\n",
       "\t<li>27Y</li>\n",
       "\t<li>28Y</li>\n",
       "\t<li>30Y</li>\n",
       "\t<li>36Y</li>\n",
       "\t<li>37Y</li>\n",
       "\t<li>37Y</li>\n",
       "\t<li>40Y</li>\n",
       "\t<li>40Y</li>\n",
       "\t<li>42Y</li>\n",
       "\t<li>55Y</li>\n",
       "\t<li>64Y</li>\n",
       "\t<li>70Y</li>\n",
       "\t<li>82Y</li>\n",
       "</ol>\n"
      ],
      "text/latex": [
       "\\begin{enumerate*}\n",
       "\\item 5.7PCW\n",
       "\\item 6PCW\n",
       "\\item 8PCW\n",
       "\\item 9PCW\n",
       "\\item 12PCW\n",
       "\\item 12PCW\n",
       "\\item 12PCW\n",
       "\\item 13PCW\n",
       "\\item 13PCW\n",
       "\\item 13PCW\n",
       "\\item 16PCW\n",
       "\\item 16PCW\n",
       "\\item 16PCW\n",
       "\\item 17PCW\n",
       "\\item 19PCW\n",
       "\\item 19PCW\n",
       "\\item 21PCW\n",
       "\\item 21PCW\n",
       "\\item 21PCW\n",
       "\\item 21PCW\n",
       "\\item 22PCW\n",
       "\\item 25PCW\n",
       "\\item 35PCW\n",
       "\\item 37PCW\n",
       "\\item 4M\n",
       "\\item 4M\n",
       "\\item 4M\n",
       "\\item 6M\n",
       "\\item 10M\n",
       "\\item 1Y\n",
       "\\item 2Y\n",
       "\\item 3Y\n",
       "\\item 3Y\n",
       "\\item 4Y\n",
       "\\item 8Y\n",
       "\\item 8Y\n",
       "\\item 11Y\n",
       "\\item 13Y\n",
       "\\item 15Y\n",
       "\\item 18Y\n",
       "\\item 19Y\n",
       "\\item 21Y\n",
       "\\item 22Y\n",
       "\\item 23Y\n",
       "\\item 27Y\n",
       "\\item 28Y\n",
       "\\item 30Y\n",
       "\\item 36Y\n",
       "\\item 37Y\n",
       "\\item 37Y\n",
       "\\item 40Y\n",
       "\\item 40Y\n",
       "\\item 42Y\n",
       "\\item 55Y\n",
       "\\item 64Y\n",
       "\\item 70Y\n",
       "\\item 82Y\n",
       "\\end{enumerate*}\n"
      ],
      "text/markdown": [
       "1. 5.7PCW\n",
       "2. 6PCW\n",
       "3. 8PCW\n",
       "4. 9PCW\n",
       "5. 12PCW\n",
       "6. 12PCW\n",
       "7. 12PCW\n",
       "8. 13PCW\n",
       "9. 13PCW\n",
       "10. 13PCW\n",
       "11. 16PCW\n",
       "12. 16PCW\n",
       "13. 16PCW\n",
       "14. 17PCW\n",
       "15. 19PCW\n",
       "16. 19PCW\n",
       "17. 21PCW\n",
       "18. 21PCW\n",
       "19. 21PCW\n",
       "20. 21PCW\n",
       "21. 22PCW\n",
       "22. 25PCW\n",
       "23. 35PCW\n",
       "24. 37PCW\n",
       "25. 4M\n",
       "26. 4M\n",
       "27. 4M\n",
       "28. 6M\n",
       "29. 10M\n",
       "30. 1Y\n",
       "31. 2Y\n",
       "32. 3Y\n",
       "33. 3Y\n",
       "34. 4Y\n",
       "35. 8Y\n",
       "36. 8Y\n",
       "37. 11Y\n",
       "38. 13Y\n",
       "39. 15Y\n",
       "40. 18Y\n",
       "41. 19Y\n",
       "42. 21Y\n",
       "43. 22Y\n",
       "44. 23Y\n",
       "45. 27Y\n",
       "46. 28Y\n",
       "47. 30Y\n",
       "48. 36Y\n",
       "49. 37Y\n",
       "50. 37Y\n",
       "51. 40Y\n",
       "52. 40Y\n",
       "53. 42Y\n",
       "54. 55Y\n",
       "55. 64Y\n",
       "56. 70Y\n",
       "57. 82Y\n",
       "\n",
       "\n"
      ],
      "text/plain": [
       " [1] 5.7PCW 6PCW   8PCW   9PCW   12PCW  12PCW  12PCW  13PCW  13PCW  13PCW \n",
       "[11] 16PCW  16PCW  16PCW  17PCW  19PCW  19PCW  21PCW  21PCW  21PCW  21PCW \n",
       "[21] 22PCW  25PCW  35PCW  37PCW  4M     4M     4M     6M     10M    1Y    \n",
       "[31] 2Y     3Y     3Y     4Y     8Y     8Y     11Y    13Y    15Y    18Y   \n",
       "[41] 19Y    21Y    22Y    23Y    27Y    28Y    30Y    36Y    37Y    37Y   \n",
       "[51] 40Y    40Y    42Y    55Y    64Y    70Y    82Y   \n",
       "41 Levels: 10M 11Y 12PCW 13PCW 13Y 15Y 16PCW 17PCW 18Y 19PCW 19Y 1Y ... 9PCW"
      ]
     },
     "execution_count": 27,
     "metadata": {},
     "output_type": "execute_result"
    }
   ],
   "source": [
    "sample.info$Age"
   ]
  },
  {
   "cell_type": "code",
   "execution_count": 25,
   "metadata": {
    "collapsed": false
   },
   "outputs": [
    {
     "data": {
      "text/plain": [
       "\n",
       " F  M \n",
       "26 31 "
      ]
     },
     "execution_count": 25,
     "metadata": {},
     "output_type": "execute_result"
    }
   ],
   "source": [
    "table(sample.info$Gender)"
   ]
  }
 ],
 "metadata": {
  "kernelspec": {
   "display_name": "R",
   "language": "R",
   "name": "ir"
  },
  "language_info": {
   "codemirror_mode": "r",
   "file_extension": ".r",
   "mimetype": "text/x-r-source",
   "name": "R",
   "pygments_lexer": "r",
   "version": "3.2.3"
  }
 },
 "nbformat": 4,
 "nbformat_minor": 0
}
